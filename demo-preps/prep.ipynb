{
 "cells": [
  {
   "cell_type": "code",
   "execution_count": 1,
   "metadata": {},
   "outputs": [],
   "source": [
    "import pandas as pd\n",
    "import numpy as np"
   ]
  },
  {
   "cell_type": "code",
   "execution_count": 20,
   "metadata": {},
   "outputs": [
    {
     "name": "stderr",
     "output_type": "stream",
     "text": [
      "/var/folders/p2/22d_mz695ds_zjhj7vk_mngc0000gn/T/ipykernel_14531/1660346968.py:1: DtypeWarning: Columns (51,65) have mixed types. Specify dtype option on import or set low_memory=False.\n",
      "  incpt = pd.read_csv('incpt_sample.csv')\n"
     ]
    }
   ],
   "source": [
    "incpt = pd.read_csv('incpt_sample.csv')"
   ]
  },
  {
   "cell_type": "code",
   "execution_count": 21,
   "metadata": {},
   "outputs": [],
   "source": [
    "incpt[[\"HN\", \"PTTYPE\", \"PTTYPEEXT\",\n",
    "    \"INCDATE\", \"SPCFLAG\", \"WELFAREAMT\", \"ARNO\"]].to_csv(\"use_incpt.csv\")"
   ]
  },
  {
   "cell_type": "code",
   "execution_count": 22,
   "metadata": {},
   "outputs": [
    {
     "name": "stderr",
     "output_type": "stream",
     "text": [
      "/var/folders/p2/22d_mz695ds_zjhj7vk_mngc0000gn/T/ipykernel_14531/4089821767.py:1: DtypeWarning: Columns (26) have mixed types. Specify dtype option on import or set low_memory=False.\n",
      "  arpt = pd.read_csv('arpt_sample.csv')\n"
     ]
    }
   ],
   "source": [
    "arpt = pd.read_csv('arpt_sample.csv')\n",
    "arpt[['ARNO','CLAIMLCT']].to_csv('use_arpt.csv')"
   ]
  },
  {
   "cell_type": "code",
   "execution_count": 16,
   "metadata": {},
   "outputs": [
    {
     "data": {
      "text/plain": [
       "0            581\n",
       "1            581\n",
       "2            581\n",
       "3            581\n",
       "4            581\n",
       "          ...   \n",
       "9995    28000810\n",
       "9996    28000810\n",
       "9997    28000810\n",
       "9998    28000810\n",
       "9999    28000810\n",
       "Name: HN, Length: 10000, dtype: int64"
      ]
     },
     "execution_count": 16,
     "metadata": {},
     "output_type": "execute_result"
    }
   ],
   "source": [
    "incpt.HN"
   ]
  },
  {
   "cell_type": "code",
   "execution_count": null,
   "metadata": {},
   "outputs": [],
   "source": []
  }
 ],
 "metadata": {
  "kernelspec": {
   "display_name": "Python 3",
   "language": "python",
   "name": "python3"
  },
  "language_info": {
   "codemirror_mode": {
    "name": "ipython",
    "version": 3
   },
   "file_extension": ".py",
   "mimetype": "text/x-python",
   "name": "python",
   "nbconvert_exporter": "python",
   "pygments_lexer": "ipython3",
   "version": "3.11.5"
  }
 },
 "nbformat": 4,
 "nbformat_minor": 2
}
